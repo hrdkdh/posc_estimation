{
 "cells": [
  {
   "cell_type": "code",
   "execution_count": 1,
   "metadata": {},
   "outputs": [],
   "source": [
    "import cv2\n",
    "import torch\n",
    "import numpy as np\n",
    "from torchvision import transforms\n",
    "from utils.datasets import letterbox\n",
    "from utils.torch_utils import select_device\n",
    "from models.experimental import attempt_load\n",
    "from utils.general import non_max_suppression_kpt, strip_optimizer\n",
    "from utils.plots import colors, plot_one_box_kpt"
   ]
  },
  {
   "cell_type": "code",
   "execution_count": 2,
   "metadata": {},
   "outputs": [
    {
     "name": "stdout",
     "output_type": "stream",
     "text": [
      "Optimizer stripped from yolov7-w6-pose.pt, 161.1MB\n",
      "Fusing layers... \n"
     ]
    }
   ],
   "source": [
    "strip_optimizer(\"0\", \"yolov7-w6-pose.pt\")\n",
    "weights=\"yolov7-w6-pose.pt\"\n",
    "device = select_device(\"0\")\n",
    "\n",
    "model = attempt_load(weights, map_location=device) \n",
    "_ = model.eval()\n",
    "names = model.module.names if hasattr(model, \"module\") else model.names "
   ]
  },
  {
   "cell_type": "code",
   "execution_count": 160,
   "metadata": {},
   "outputs": [],
   "source": [
    "src = cv2.imread(\"pose1.jpg\")\n",
    "dst = src.copy()\n",
    "dst = cv2.resize(dst, (640*src.shape[1]//src.shape[0], 640))\n",
    "dst2 = cv2.resize(dst, (640*src.shape[1]//src.shape[0], 640))\n",
    "img = cv2.cvtColor(dst, cv2.COLOR_BGR2RGB)\n",
    "img = letterbox(img, (640), stride=64, auto=True)[0]\n",
    "img = transforms.ToTensor()(img)\n",
    "img = torch.tensor(np.array([img.numpy()]))\n",
    "img = img.to(device)\n",
    "img = img.float()\n",
    "with torch.no_grad():\n",
    "    output_data, _ = model(img)\n",
    "output_data = non_max_suppression_kpt(\n",
    "                output_data,\n",
    "                0.25,\n",
    "                0.65,\n",
    "                nc=model.yaml[\"nc\"],\n",
    "                nkpt=model.yaml[\"nkpt\"],\n",
    "                kpt_label=True)\n",
    "\n",
    "for det in output_data[0]:\n",
    "    if det[4] < 0.9:\n",
    "        continue\n",
    "    for i in range(len(det)):\n",
    "        if i in [6, 9, 12, 15, 18, 21, 24, 27, 30, 33, 36, 39, 42, 45, 48, 51, 54]:\n",
    "            dst = cv2.circle(dst, (int(det[i]), int(det[i+1])), 3, (0, 255, 0), -1, cv2.LINE_AA)\n",
    "            dst = cv2.putText(dst, \"{:.2f}\".format(det[i+2].item()), (int(det[i]+5), int(det[i+1]-4)), cv2.FONT_HERSHEY_SIMPLEX, 0.3, (0, 255, 0), 1, cv2.LINE_AA)\n",
    "        cv2.imshow(\"dst\", dst)\n",
    "        # if cv2.waitKey() == 27:\n",
    "        #     break\n",
    "        # else:\n",
    "        #     continue\n",
    "# for pose in output_data:\n",
    "    # for det_index, (*xyxy, conf, cls) in enumerate(reversed(pose[:,:6])):\n",
    "    #     c = int(cls) \n",
    "    #     kpts = pose[det_index, 6:]\n",
    "    #     label = f\"{names[c]} {conf:.2f}\"\n",
    "    #     plot_one_box_kpt(xyxy, dst2, label=label, color=colors(c, True), \n",
    "    #                 line_thickness=3, kpt_label=True, kpts=kpts, steps=3, \n",
    "    #                 orig_shape=dst2.shape[:2])\n",
    "    # break\n",
    "cv2.imshow(\"dst\", dst)\n",
    "# cv2.imshow(\"dst2\", dst2)\n",
    "cv2.waitKey()\n",
    "cv2.destroyAllWindows()"
   ]
  },
  {
   "cell_type": "code",
   "execution_count": 149,
   "metadata": {},
   "outputs": [
    {
     "data": {
      "text/plain": [
       "0.9883378148078918"
      ]
     },
     "execution_count": 149,
     "metadata": {},
     "output_type": "execute_result"
    }
   ],
   "source": [
    "output_data[0][0][11].item()"
   ]
  }
 ],
 "metadata": {
  "kernelspec": {
   "display_name": ".venv",
   "language": "python",
   "name": "python3"
  },
  "language_info": {
   "codemirror_mode": {
    "name": "ipython",
    "version": 3
   },
   "file_extension": ".py",
   "mimetype": "text/x-python",
   "name": "python",
   "nbconvert_exporter": "python",
   "pygments_lexer": "ipython3",
   "version": "3.10.10"
  },
  "orig_nbformat": 4
 },
 "nbformat": 4,
 "nbformat_minor": 2
}
