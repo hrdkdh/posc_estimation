{
 "cells": [
  {
   "attachments": {},
   "cell_type": "markdown",
   "metadata": {},
   "source": [
    "1. Azure Kinect SDK와 Azure Kinect Body Tracking SDK를 설치한다.\n",
    " - https://learn.microsoft.com/ko-kr/azure/kinect-dk/sensor-sdk-download\n",
    " - https://learn.microsoft.com/en-us/azure/kinect-dk/body-sdk-download\n",
    "\n",
    "2. pykinect_azure를 설치한다.\n",
    "\n",
    "3. 참고\n",
    " - 관절별 인덱스 : https://learn.microsoft.com/ko-kr/azure/kinect-dk/body-joints\n",
    " - 팔꿈치 토크 수식 : (몸무게/16 * 2 + 물건무게) * (키/6) * sin(각도)\n",
    " - 어깨 토크 수식 : {키/6 * (몸무게/16 * 2) * sin(각도)} + {키/3 * 든물건무게 * sin(각도)}"
   ]
  },
  {
   "cell_type": "code",
   "execution_count": null,
   "metadata": {},
   "outputs": [],
   "source": [
    "import sys\n",
    "import cv2\n",
    "import numpy as np\n",
    "import pykinect_azure as pykinect\n",
    "\n",
    "# 패키지에서 출력하는 로그를 숨기기 위한 코드\n",
    "stdout = sys.stdout\n",
    "sys.stdout = None\n",
    "\n",
    "# 출력을 복구하고 싶다면 아래 코드로 가능\n",
    "# sys.stdout = stdout\n",
    "\n",
    "# Initialize the library, if the library is not found, add the library path as argument\n",
    "pykinect.initialize_libraries(track_body=True)\n",
    "\n",
    "# Modify camera configuration\n",
    "device_config = pykinect.default_configuration\n",
    "device_config.color_resolution = pykinect.K4A_COLOR_RESOLUTION_1080P\n",
    "device_config.depth_mode = pykinect.K4A_DEPTH_MODE_WFOV_2X2BINNED\n",
    "#print(device_config)\n",
    "\n",
    "# Start device\n",
    "device = pykinect.start_device(config=device_config)\n",
    "\n",
    "# Start body tracker\n",
    "bodyTracker = pykinect.start_body_tracker()\n",
    "\n",
    "while True:\n",
    "    \n",
    "    # Get capture\n",
    "    capture = device.update()\n",
    "\n",
    "    try:\n",
    "        ret, color_image = capture.get_color_image()\n",
    "        body_frame = bodyTracker.update()\n",
    "    except:\n",
    "        continue\n",
    "\n",
    "    if not ret:\n",
    "        break\n",
    "\n",
    "    # Draw the skeletons into the color image\n",
    "    color_skeleton = body_frame.draw_bodies(color_image, pykinect.K4A_CALIBRATION_TYPE_COLOR)\n",
    "    info = body_frame.get_bodies()[0].json()\n",
    "\n",
    "    neck = info[\"skeleton\"][\"joints\"][3]\n",
    "    pelvis = info[\"skeleton\"][\"joints\"][0]\n",
    "    hip_left = info[\"skeleton\"][\"joints\"][18]\n",
    "    hip_right = info[\"skeleton\"][\"joints\"][22]\n",
    "    elbow_left = info[\"skeleton\"][\"joints\"][6]\n",
    "    wrist_left = info[\"skeleton\"][\"joints\"][7]\n",
    "\n",
    "    #허리길이 측정을 위해 두 벡터 간 유클리드 거리 계산\n",
    "    vac_neck = np.array(neck[\"position\"][\"v\"])\n",
    "    vac_pelvis = np.array(pelvis[\"position\"][\"v\"])\n",
    "    dist = np.linalg.norm(vac_neck-vac_pelvis)\n",
    "\n",
    "    dst = cv2.putText(color_skeleton, str(round(dist, 2)), (10, 100), cv2.FONT_HERSHEY_SIMPLEX, 1, (255, 0, 0), 2, cv2.LINE_AA)\n",
    "    dst = cv2.resize(dst, dsize=(0, 0), fx=0.5, fy=0.5, interpolation=cv2.INTER_LINEAR)\n",
    "    cv2.imshow(\"dst\", dst)\n",
    "\n",
    "    sys.stdout = stdout\n",
    "    print(elbow_left[\"orientation\"][\"v\"], end=\"\\r\")\n",
    "    sys.stdout = None\n",
    "\n",
    "    if cv2.waitKey(1) == 27:\n",
    "        sys.stdout = stdout\n",
    "        break\n",
    "\n",
    "cv2.destroyAllWindows()\n",
    "device.close()"
   ]
  },
  {
   "cell_type": "code",
   "execution_count": null,
   "metadata": {},
   "outputs": [],
   "source": [
    "device.close()"
   ]
  },
  {
   "cell_type": "code",
   "execution_count": null,
   "metadata": {},
   "outputs": [],
   "source": [
    "elbow_left"
   ]
  }
 ],
 "metadata": {
  "kernelspec": {
   "display_name": ".venv",
   "language": "python",
   "name": "python3"
  },
  "language_info": {
   "codemirror_mode": {
    "name": "ipython",
    "version": 3
   },
   "file_extension": ".py",
   "mimetype": "text/x-python",
   "name": "python",
   "nbconvert_exporter": "python",
   "pygments_lexer": "ipython3",
   "version": "3.9.10"
  },
  "orig_nbformat": 4
 },
 "nbformat": 4,
 "nbformat_minor": 2
}
